{
  "nbformat": 4,
  "nbformat_minor": 0,
  "metadata": {
    "colab": {
      "provenance": []
    },
    "kernelspec": {
      "name": "python3",
      "display_name": "Python 3"
    },
    "language_info": {
      "name": "python"
    }
  },
  "cells": [
    {
      "cell_type": "code",
      "execution_count": 5,
      "metadata": {
        "colab": {
          "base_uri": "https://localhost:8080/"
        },
        "id": "qGnkbsDbHdfj",
        "outputId": "36711f08-98e2-4758-a750-1757411dc06c"
      },
      "outputs": [
        {
          "output_type": "stream",
          "name": "stdout",
          "text": [
            "similarity:0.64\n",
            "common words:{'the', 'history', 'of', 'past', 'study', 'systematic', 'is'}\n"
          ]
        }
      ],
      "source": [
        "\n",
        "file1 = \"history is the systematic study of the past\"\n",
        "file2 = \"history is the systematic study of the past this is just for practice\"\n",
        "\n",
        "def jaccard_similarity(file1, file2):\n",
        "  set1 = set(file1.split())\n",
        "  set2 = set(file2.split())\n",
        "  intersection = set1.intersection(set2)\n",
        "  union = set1.union(set2)\n",
        "  similarity = len(intersection) / len(union)\n",
        "  return similarity , intersection\n",
        "\n",
        "similarity, common_words=jaccard_similarity(file1,file2)\n",
        "print(f\"similarity:{similarity:.2f}\")\n",
        "print(f\"common words:{common_words}\")\n",
        "\n"
      ]
    }
  ]
}